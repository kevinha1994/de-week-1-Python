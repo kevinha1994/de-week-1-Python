{
 "cells": [
  {
   "cell_type": "markdown",
   "id": "59316edc",
   "metadata": {},
   "source": [
    "# Introduction to Advanced Python Concepts"
   ]
  },
  {
   "cell_type": "markdown",
   "id": "cc455960",
   "metadata": {},
   "source": [
    "Object-oriented programming is a fundamental concept in Python, empowering developers to build **modular**, **maintainable**, and **scalable** applications.\n",
    "OOPs is a way of organizing code that uses objects and classes to represent real-world entities and their behavior.  \n",
    "\n",
    "**Example:** An object could represent a person with properties like a name, age, and address, and behaviors such as walking, talking, breathing, and running. Alternatively, it could represent an email with properties such as a recipient list, subject, and body, as well as behaviors like adding attachments and sending.  \n",
    "\n",
    "**Functions** are called `methods` in OOP world. **Characteristics** are `attributes` (properties). Technically **attributes** are `variables` or `values` related to the state of the object whereas *methods* are `functions` which affect the attributes of the object.\n",
    "\n",
    " #### Advantages of OOPs:  \n",
    "- Provides a clear structure to programs\n",
    "- Makes code easier to maintain, reuse, and debug\n",
    "- Helps keep your code DRY (Don't Repeat Yourself)\n",
    "- Allows you to build reusable applications with less code\n",
    "#### Disadvantages of OOPs:  \n",
    "- Difficulty in testing and debugging: \n",
    "- Designing a program using OOP principles takes more time than procedural approaches\n",
    "- Not Ideal for all problems(like small logics or scripts)\n",
    "- Complex relationships, like A single change in a parent class, can have cascading effects on all derived classes\n"
   ]
  },
  {
   "cell_type": "markdown",
   "id": "f24118cb",
   "metadata": {},
   "source": [
    "### 1. Classes and Objects\n",
    "\n",
    "#### A. Python Class \n",
    "A class is a collection of objects. Classes are **blueprints** for creating objects. A class defines a set of attributes and methods that the created objects (instances) can have.\n",
    "\n",
    "- Classes are created by the keyword **class.**  \n",
    "- **Attributes** are the **variables** that belong to a class.\n",
    "- Attributes are always public and can be accessed using the dot `.` operator. \n",
    "> Example: Myclass.Myattribute\n",
    "\n",
    "**Example**:  \n",
    "**Class** = **Blueprint**: Imagine you want to build many houses. You wouldn't draw a completely new plan for each one. Instead, you'd create a single, detailed blueprint. This blueprint defines what every house will have: the number of rooms, kitchen layout, window types, etc. It's a design, not a physical house itself.\n",
    "#### What is an Instance of a Class?\n",
    " * An **instance** of a class is a concrete object that is created from a class **blueprint**.\n",
    " * A **class** defines a **template** — it describes what **attributes (data) and methods (behavior)** an object will have."
   ]
  },
  {
   "cell_type": "markdown",
   "id": "766d4c20",
   "metadata": {},
   "source": [
    "#### a. Creating a Class\n",
    " We can create a class using the keyword class. The method of a class can be defined by the keyword def. It is similar to a normal function, but it is defined within a class and is a function of the class. The first parameter in the definition of a method is always self, and the method is called without the parameter self.\n"
   ]
  },
  {
   "cell_type": "code",
   "execution_count": 1,
   "id": "a81f72b6",
   "metadata": {},
   "outputs": [],
   "source": [
    "class Car:\n",
    "    def __init__(self, year):\n",
    "        self.year = year     # car model's year\n",
    "        self.mpg = 20        # mileage\n",
    "        self.speed = 100     # current speed\n",
    "\n",
    "    def accelerate(self):\n",
    "        self.speed += 20\n",
    "        return self.speed\n",
    "\n",
    "    def brake(self):\n",
    "        self.speed -= 50\n",
    "        return self.speed"
   ]
  },
  {
   "cell_type": "code",
   "execution_count": 3,
   "id": "388ae118",
   "metadata": {},
   "outputs": [],
   "source": [
    "firstcar = Car(2020)"
   ]
  },
  {
   "cell_type": "code",
   "execution_count": 4,
   "id": "62c5cc75",
   "metadata": {},
   "outputs": [
    {
     "data": {
      "text/plain": [
       "120"
      ]
     },
     "execution_count": 4,
     "metadata": {},
     "output_type": "execute_result"
    }
   ],
   "source": [
    "firstcar.accelerate()"
   ]
  },
  {
   "cell_type": "markdown",
   "id": "1ea22994",
   "metadata": {},
   "source": [
    "#### b. What is a Constructor?\n",
    "The `__init__()` Function:\n",
    "\n",
    "- To understand the meaning of classes, we have to understand the built-in `__init__()` function.\n",
    "\n",
    "- All classes have a function called `__init__()`, which is always executed when the class is being initiated.\n",
    "\n",
    "- In Python, magic methods are prefixed and suffixed with the double underscore `__`, also known as **dunder**. The most well-known magic method is probably `__init__`.\n",
    "\n",
    " * `self` represents that object which inherits those properties.\n",
    "`self` is a reference to the current object instance — it allows access to the attributes and methods of the class within the class body."
   ]
  },
  {
   "cell_type": "markdown",
   "id": "bc43b1b4",
   "metadata": {},
   "source": [
    "#### c. Variables \n",
    "Attributes of a class are also referred to as variables. There are two kinds of variables in the context of classes:\n",
    "1. **Class Variables (or Global Variables)**:  \n",
    " Declared inside a class but outside of any methods. All instances of the class share these variables. You can access them using the class name.\n",
    "\n",
    "2. **Instance Variables (or Local Variables)**:   \n",
    "Declared inside the `__init__` method (or other methods) using self.variable_name. These variables are unique to each instance (object) of the class. You can only access these variables after you create an object (instance).    \n",
    "*See the difference in the example below:*"
   ]
  },
  {
   "cell_type": "code",
   "execution_count": null,
   "id": "ea92bdce",
   "metadata": {},
   "outputs": [
    {
     "name": "stdout",
     "output_type": "stream",
     "text": [
      "0.1\n",
      "tkB\n",
      "50000\n",
      "100000\n"
     ]
    }
   ],
   "source": [
    "class MyCompany:\n",
    "    # Class Variable (shared by all instances)\n",
    "    growth = 0.1\n",
    "            \n",
    "    def __init__(self, compname, revenue, employeesize):\n",
    "        # Instance Variables (unique to each instance)\n",
    "        self.name = compname\n",
    "        self.revenue = revenue\n",
    "        self.no_of_employees = employeesize\n",
    "\n",
    "# Accessing a Class Variable:\n",
    "print(MyCompany.growth)\n",
    "# Output: 0.1\n",
    "\n",
    "#comp1 = MyCompany(\"tkB\", \"1B $\", \"4320\")\n",
    "#print(comp1.name)\n",
    "\n",
    "# How to get the 'revenue' instance variable from MyCompany class?\n",
    "# Wrong Way: (Raises an error because 'revenue' is an instance variable)\n",
    "# MyCompany.revenue\n",
    "# AttributeError: type object 'MyCompany' has no attribute 'revenue'\n",
    "\n",
    "# Correct Way: (You must create an object first)\n",
    "bank = MyCompany('DBA Bank', 50000, 1000)\n",
    "print(bank.revenue)\n",
    "# Output: 50000\n",
    "\n",
    "# Another instance will have its own unique 'revenue'\n",
    "tech_corp = MyCompany('Tech Innovations', 100000, 500)\n",
    "print(tech_corp.revenue)\n",
    "# Output: 100000"
   ]
  },
  {
   "cell_type": "markdown",
   "id": "01597487",
   "metadata": {},
   "source": [
    "### B. Python Objects\n",
    "An Object is an instance of a Class. It represents a specific implementation of the class and holds its own data.\n",
    "Objects are instances of a class. Words **'instance'** and **'object'** are used interchangeably. The process of creating an object of a class is called **instantiation**.\n",
    "An object consists of:\n",
    "\n",
    "- State: It is represented by the attributes and reflects the properties of an object.\n",
    "- Behavior: It is represented by the methods of an object and reflects the response of an object to other objects.\n",
    "- Identity: It gives a unique name to an object and enables one object to interact with other objects.\n"
   ]
  },
  {
   "cell_type": "markdown",
   "id": "7f7d481b",
   "metadata": {},
   "source": [
    "#### a. Creating an Object\n",
    "Creating Objects "
   ]
  },
  {
   "cell_type": "code",
   "execution_count": 3,
   "id": "50cfa526",
   "metadata": {},
   "outputs": [
    {
     "name": "stdout",
     "output_type": "stream",
     "text": [
      "2016\n",
      "120\n",
      "70\n"
     ]
    }
   ],
   "source": [
    "my_car = Car()         # Creating an object (instance) of the Car class\n",
    "print(my_car.year)     # Accessing an instance attribute\n",
    "# Output: 2016\n",
    "print(my_car.accelerate())  # Calling an instance method\n",
    "# Output: 120 (speed increased by 20)\n",
    "print(my_car.brake())       # Calling another instance method\n",
    "# Output: 70 (speed decreased by 50)"
   ]
  },
  {
   "cell_type": "markdown",
   "id": "049629e7",
   "metadata": {},
   "source": [
    "#### b. Methods\n",
    "\n",
    "In Python, there are three types of methods associated with classes: **Instance Methods**, **Class Methods**, and **Static Methods**.\n",
    "\n",
    "##### 1. Instance Methods\n",
    "* **Definition:** These are the most common types of methods. They take `self` as their first argument, which refers to the specific instance (object) on which the method is called. They are also often referred to as **Object Methods** or **Regular Methods**.\n",
    "* **Purpose:** Instance methods are used to access and modify properties unique to a particular object or instance. They operate on the instance's attributes.\n",
    "* **Access:** They can access both instance variables (using `self.attribute_name`) and class variables (using `self.class_name.attribute_name` or `Class.attribute_name`).\n",
    "\n",
    "##### 2. Class Methods\n",
    "* **Definition:** Class methods take `cls` (conventionally) as their first argument, which refers to the class itself, not a specific instance. To define a class method, we use the `@classmethod` decorator right above the method definition.\n",
    "* **Purpose:** Class methods are used when you want to access or modify a property (attribute) of the class itself, rather than a property of a specific instance of that class. They are often used for factory methods or to manage class-wide data.\n",
    "* **Access:** They can access only class variables (using `cls.attribute_name` or `Class.attribute_name`). They do not have access to instance-specific attributes.\n",
    "\n",
    "##### 3. Static Methods\n",
    "* **Definition:** Static methods do not take `self` or `cls` as their first argument. They are defined using the `@staticmethod` decorator.\n",
    "* **Purpose:** Static methods are like regular functions that happen to be defined within a class. They have no access to instance-specific data (`self`) or class-specific data (`cls`). Their primary usage is for creating helper or utility functions that logically belong to the class but don't require any specific instance or class context.\n",
    "* **Access:** They cannot directly access instance or class attributes. They operate only on the arguments passed to them.\n"
   ]
  },
  {
   "cell_type": "code",
   "execution_count": 6,
   "id": "8cb6efc2",
   "metadata": {},
   "outputs": [
    {
     "name": "stdout",
     "output_type": "stream",
     "text": [
      "Toyota is now going at 70 km/h\n",
      "All cars have 4 wheels\n",
      "Cars are used for transportation.\n"
     ]
    }
   ],
   "source": [
    "####  The following are concise method examples \n",
    "\n",
    "#### Refer to the Week 1 Colab Notebook and see this code in action.\n",
    "\n",
    "#####  1. Instance Method Example\n",
    "\n",
    "\n",
    "class Car:\n",
    "    def __init__(self, model, speed):\n",
    "        self.model = model\n",
    "        self.speed = speed\n",
    "\n",
    "    # Instance method - operates on instance data\n",
    "    def accelerate(self):\n",
    "        self.speed += 10\n",
    "        return f\"{self.model} is now going at {self.speed} km/h\"\n",
    "\n",
    "# Create object\n",
    "my_car = Car(\"Toyota\", 60)\n",
    "print(my_car.accelerate())  # Output: Toyota is now going at 70 km/h\n",
    "#####  2.  Class Method Example\n",
    "\n",
    "class Car:\n",
    "    wheels = 4  # Class variable\n",
    "\n",
    "    def __init__(self, model):\n",
    "        self.model = model\n",
    "\n",
    "    @classmethod\n",
    "    def car_wheels(cls):\n",
    "        return f\"All cars have {cls.wheels} wheels\"\n",
    "\n",
    "# Accessing class method\n",
    "print(Car.car_wheels())  # Output: All cars have 4 wheels\n",
    "\n",
    "#####  3.  Static Method Example\n",
    "\n",
    "class Car:\n",
    "    @staticmethod\n",
    "    def general_info():\n",
    "        return \"Cars are used for transportation.\"\n",
    "\n",
    "# Calling static method\n",
    "print(Car.general_info())  # Output: Cars are used for transportation."
   ]
  },
  {
   "cell_type": "markdown",
   "id": "f0b7c4a6",
   "metadata": {},
   "source": [
    "##  Four Pillars of OOPs (Object-Oriented Programming System)"
   ]
  },
  {
   "cell_type": "markdown",
   "id": "1574f35d",
   "metadata": {},
   "source": [
    "### **1. Inheritance**  \n",
    "**Inheritance** is a fundamental concept in Object-Oriented Programming that enables a new class, known as the child class (or subclass), to acquire properties `(attributes)` and behaviors `(methods)` from an existing class, referred to as the parent class (or superclass). This relationship is often described as an \"is-a\" relationship\n",
    "\n",
    "#### **Why is it Important?**  \n",
    " Inheritance is vital for creating organized, efficient, and extensible codebases:\n",
    "\n",
    "- **Code Reusability:** One of the most significant benefits is the ability to reuse code. Common attributes and methods can be defined once in a parent class, and all child classes can automatically inherit and utilize them without needing to rewrite the same code. This reduces redundancy and streamlines development.   \n",
    "\n",
    "- **Extensibility:** Inheritance makes a system highly extensible. New functionalities or specialized behaviors can be easily added to child classes without altering the existing parent class code, allowing for flexible program expansion.   \n",
    "\n",
    "- **Modeling \"Is-A\" Relationships:** It provides a clear and intuitive way to model hierarchical relationships between real-world entities. For instance, a SportsCar is a Car, and a Car is a Vehicle, creating a logical structure in the code.   \n",
    "\n",
    "- **Simplicity and Maintainability:** By organizing code into logical hierarchies, inheritance simplifies the overall structure of a program, making it easier to understand and maintain over time.   "
   ]
  },
  {
   "cell_type": "code",
   "execution_count": 9,
   "id": "c8b06b84",
   "metadata": {},
   "outputs": [
    {
     "name": "stdout",
     "output_type": "stream",
     "text": [
      "Tesla engine started.\n",
      "Tesla is driving smoothly.\n"
     ]
    }
   ],
   "source": [
    "# Parent class\n",
    "class Vehicle:\n",
    "    def __init__(self, make):\n",
    "        self.make = make\n",
    "\n",
    "    def start_engine(self):\n",
    "        return f\"{self.make} engine started.\"\n",
    "\n",
    "# Child class inheriting from Vehicle\n",
    "class Car(Vehicle):\n",
    "    def drive(self):\n",
    "        #super().start_engine()\n",
    "        return f\"{self.make} is driving smoothly.\"\n",
    "\n",
    "# Create an object of Car\n",
    "my_car = Car(\"Tesla\")\n",
    "\n",
    "print(my_car.start_engine())  # Inherited method\n",
    "print(my_car.drive())         # Method specific to Car\n",
    "\n"
   ]
  },
  {
   "cell_type": "markdown",
   "id": "1119d2b3",
   "metadata": {},
   "source": [
    "### **2. Polymorphism**  \n",
    "**Polymorphism**     refers to having multiple forms for an existing concept, which allows the same interface to be used for different objects. So, in practice, you can have a function with the same name but a different implementation. Polymorphism means **\"the condition of occurring in several different forms.\"** That's precisely what polymorphism is concerned with – types in the same inheritance chains being able to do different things.\n",
    "If you have used inheritance correctly, you can now reliably use parents like their children. When two types share an inheritance chain, they can be used interchangeably with no errors or assertions in your code.\n",
    "\n",
    "\n",
    "#### **Why is it Important?**  \n",
    "* **Flexible Code:**\n",
    "Polymorphism allows code to work with various types of objects, even when their exact type isn't known in advance, as long as they implement a common interface (i.e., share method names). This enables generic programming.\n",
    "\n",
    "* **Reusable Code:**\n",
    "It enables writing a single function or method that can process objects of different classes. This eliminates the need for repetitive, type-specific code using conditional statements, such as if-else or switch.\n",
    "\n",
    "* **Extensibility:**\n",
    "When new object types are introduced, existing polymorphic code often continues to work without changes, as long as new types implement the expected behavior (methods).\n"
   ]
  },
  {
   "cell_type": "markdown",
   "id": "ab715787",
   "metadata": {},
   "source": [
    "#### **How Polymorphism is Achieved in Python**  \n",
    "Polymorphism means “many forms”, and in Python, it allows the same operation or function to behave differently based on the object it is acting on. Python supports polymorphism in the following main ways:"
   ]
  },
  {
   "cell_type": "markdown",
   "id": "3f47ec38",
   "metadata": {},
   "source": [
    "##### **Built-in Function Polymorphism**\n",
    "    Python’s built-in functions automatically adapt based on the data type.\n",
    "Example `len()`function "
   ]
  },
  {
   "cell_type": "code",
   "execution_count": 10,
   "id": "0d0b4523",
   "metadata": {},
   "outputs": [
    {
     "name": "stdout",
     "output_type": "stream",
     "text": [
      "6\n",
      "3\n",
      "2\n"
     ]
    }
   ],
   "source": [
    "print(len(\"Python\"))        # 6  Number of characters\n",
    "print(len([1, 2, 3]))       # 3  Number of list elements\n",
    "print(len({\"a\": 1, \"b\": 2}))# 2  Number of dictionary keys"
   ]
  },
  {
   "cell_type": "markdown",
   "id": "741cd461",
   "metadata": {},
   "source": [
    "##### **Method Overriding**  \n",
    "    When a child class provides a specific implementation of a method inherited from its parent class."
   ]
  },
  {
   "cell_type": "code",
   "execution_count": 20,
   "id": "f1ef4890",
   "metadata": {},
   "outputs": [
    {
     "name": "stdout",
     "output_type": "stream",
     "text": [
      "Animal speaks\n",
      "Animal speaks\n",
      "Dog barks\n"
     ]
    }
   ],
   "source": [
    "class Animal:\n",
    "    def __init__(self, name): # only needed if you want to initialize a class\n",
    "        self.name = name\n",
    "    def speak(self):\n",
    "        print(\"Animal speaks\")\n",
    "\n",
    "class Dog(Animal):\n",
    "    def speak(self):\n",
    "        super().speak() # runs also the method from parent class\n",
    "        print(\"Dog barks\")\n",
    "\n",
    "a = Animal(\"Dog\")\n",
    "d = Dog(\"Cat\")\n",
    "\n",
    "a.speak()  # Animal speaks\n",
    "d.speak()  # Dog barks → Overridden method"
   ]
  },
  {
   "cell_type": "markdown",
   "id": "6698ea50",
   "metadata": {},
   "source": [
    "##### **Duck Typing (Class Polymorphism)**  \n",
    "    If an object has the right method or behavior, Python doesn’t care about its class."
   ]
  },
  {
   "cell_type": "code",
   "execution_count": 14,
   "id": "2a0d99e0",
   "metadata": {},
   "outputs": [
    {
     "name": "stdout",
     "output_type": "stream",
     "text": [
      "Bird flies\n",
      "Airplane soars\n",
      "Animal speaks\n",
      "Dog barks\n"
     ]
    }
   ],
   "source": [
    "class Bird:\n",
    "    def fly(self):\n",
    "        print(\"Bird flies\")\n",
    "\n",
    "class Airplane:\n",
    "    def fly(self):\n",
    "        print(\"Airplane soars\")\n",
    "\n",
    "def start_flight(obj):\n",
    "    obj.fly()\n",
    "\n",
    "start_flight(Bird())       # Bird flies\n",
    "start_flight(Airplane())   # Airplane soars\n",
    "\n",
    "a = Animal()\n",
    "d = Dog()\n",
    "\n",
    "a.speak()  # Animal speaks\n",
    "d.speak()  # Dog barks → Overridden method"
   ]
  },
  {
   "cell_type": "markdown",
   "id": "1b291536",
   "metadata": {},
   "source": [
    "### **3. Encapslation**       \n",
    "The definition of encapsulation is \"the action of enclosing something in or as if in a capsule\". Removing access to parts of your code and making things private is exactly what Encapsulation is all about (often times, people refer to it as data hiding). Encapsulation means that each object in your code should control its own state. The state is the current \"snapshot\" of your object. \n",
    "\n",
    "#### **Why is it Important?**  \n",
    "Encapsulation offers several critical advantages in software development:\n",
    "\n",
    "* **Data Integrity:** By controlling access to data through methods and encapsulation, it ensures that data is modified only in valid and predictable ways. \n",
    "\n",
    "* **Security:** It acts as a protective barrier, safeguarding sensitive information by limiting direct external access. This enhances the overall security posture of the application.   \n",
    "\n",
    "* **Controlled Access:** Encapsulation provides flexibility in how data can be interacted with. Developers can design methods that allow variables to be read-only (getters), write-only (setters with validation logic), or both, giving precise control over data manipulation.   \n",
    "\n",
    "\n",
    "#### **How to Achieve it in Python**\n",
    "  \n",
    "**Public Members:**\n",
    " By default, all attributes and methods defined within a Python class are considered public. This means they can be freely accessed from any part of the code, whether inside or outside the class. Like `self.value`would be a public attribute.\n",
    "\n",
    " **Protected Members:** A single underscore prefix `(_)` before a member's name denotes it as protected. This is a widely accepted convention signaling that the member is primarily intended for use within the class itself and its subclasses.\n",
    "\n",
    " **Private Members:** A double underscore prefix `(__)` before a member's name indicates that it is private. When an attribute or method is prefixed with `__`, Python automatically performs **\"name mangling**.\" This process alters the name of the attribute by adding an underscore and the class name to the beginning (e.g., __value in a Car class becomes _Car__value).  "
   ]
  },
  {
   "cell_type": "code",
   "execution_count": 15,
   "id": "ef8324fb",
   "metadata": {},
   "outputs": [
    {
     "name": "stdout",
     "output_type": "stream",
     "text": [
      "Honda Civic accelerates up to 200 km/h.\n",
      "Fuel level: 50L\n"
     ]
    }
   ],
   "source": [
    "class Car:\n",
    "    def __init__(self, make, model):\n",
    "        self.make = make               # Public\n",
    "        self.model = model             # Public\n",
    "        self.__max_speed = 200         # Private\n",
    "        self._fuel_level = 50          # Protected\n",
    "\n",
    "    def accelerate(self):\n",
    "        print(f\"{self.make} {self.model} accelerates up to {self.__max_speed} km/h.\")\n",
    "\n",
    "    def get_fuel_level(self):\n",
    "        return f\"Fuel level: {self._fuel_level}L\"\n",
    "\n",
    "# Usage\n",
    "car = Car(\"Honda\", \"Civic\")\n",
    "car.accelerate()\n",
    "print(car.get_fuel_level())"
   ]
  },
  {
   "cell_type": "markdown",
   "id": "be5d636e",
   "metadata": {},
   "source": [
    "### **4. Abstraction**   \n",
    "**Abstraction** is one of the core principles of Object-Oriented Programming (OOP). It allows you to **hide internal implementation details** and show only the **relevant functionality** to the user. Think of it as a way to focus on *what an object does* rather than *how it does it.*\n",
    "\n",
    "####  Real-Life Analogy of Abstraction\n",
    "When you drive a car, you use the **steering wheel, accelerator, and brakes**—you don’t need to know how the engine, fuel pump, or sensors work internally. That’s abstraction in action: hiding complexity and exposing only what's essential.\n",
    " \n",
    "#### **Why is it Important?**  \n",
    "Abstraction offers several significant benefits in software development:\n",
    "\n",
    "* **Simplified Complexity:** Hides unnecessary implementation details, making systems easier to use and manage.\n",
    "* **Improved Modularity:** Promotes clean separation of concerns, making components reusable and adaptable.\n",
    "* **Reduced Errors:** Prevents misuse by hiding sensitive internals, reducing risk of bugs and data corruption.\n",
    "* **Better Security:** Limits access to internal structures, safeguarding critical logic and data.\n",
    "\n",
    "#### **How to Achieve it in Python**  \n",
    "Abstraction is primarily implemented using **Abstract Base Classes (ABCs)** and **abstract methods** via the `abc` module.\n",
    "\n",
    "* **Abstract Class:** A blueprint for other classes. It can't be instantiated directly and defines methods that must be implemented by its subclasses.\n",
    "\n",
    "* **Abstract Method:** A method defined in an abstract class using the `@abstractmethod` decorator. It lacks implementation and enforces that child classes must define it.\n",
    "\n",
    "* **Concrete Method:** A fully implemented method in an abstract class that can be inherited and used by subclasses, reducing duplication.\n",
    "\n",
    "#### **Steps to Implement Abstraction in Python:**  \n",
    "\n",
    "- 1. `from abc import ABC, abstractmethod`\n",
    "- 2. Inherit your class from `ABC`.\n",
    "- 3. Use `@abstractmethod` to mark methods that must be overridden in subclasses.\n",
    "- 4. Optionally, define concrete methods for shared functionality.\n",
    "\n",
    "> Note: An abstract method can have a basic body. Subclasses are still required to override it, but may call the parent method using `super()`."
   ]
  },
  {
   "cell_type": "code",
   "execution_count": 16,
   "id": "43736bf0",
   "metadata": {},
   "outputs": [],
   "source": [
    "from abc import ABC, abstractmethod\n",
    "\n",
    "class Shape(ABC):\n",
    "    def common(self):\n",
    "        print(\"This is a concrete method.\")\n",
    "\n",
    "    @abstractmethod\n",
    "    def area(self):\n",
    "        pass\n",
    "\n",
    "    @abstractmethod\n",
    "    def perimeter(self):\n",
    "        pass"
   ]
  },
  {
   "cell_type": "markdown",
   "id": "16875814",
   "metadata": {},
   "source": [
    "##  Decorators: Function Wrappers, Authorization, Caching\n",
    "\n",
    "Function wrappers, commonly referred to as **decorators**, are a powerful feature in Python that allow developers to modify or enhance the behavior of a function or method without altering its original code. They are especially useful in scenarios such as logging, enforcing authorization, adding caching layers, instrumentation, and more.\n",
    "\n",
    "### **What is a Decorator?**\n",
    "\n",
    "A **decorator** is essentially a function that takes another function as input, extends or modifies its behavior, and returns the updated function. Decorators are applied at runtime and help in writing clean, reusable, and expressive code.\n",
    "\n",
    "### **Common Use Cases**\n",
    "\n",
    "- **Logging**: Automatically log function calls and results.\n",
    "- **Authorization**: Restrict access to certain functions based on user roles or authentication.\n",
    "- **Caching**: Store expensive computation results for future reuse.\n",
    "- **Validation**: Pre-check arguments or post-process results without changing the core logic.\n"
   ]
  },
  {
   "cell_type": "markdown",
   "id": "689a7ee5",
   "metadata": {},
   "source": [
    "### **Syntax of Decorator**:  \n",
    "There are two common ways to apply decorators in Python:\n",
    "\n",
    "####  A. Using the `@decorator_name` Syntax\n",
    "\n",
    "This is the most common and readable way to apply a decorator:\n",
    "\n",
    "```python\n",
    "@wrapper\n",
    "def function(n):\n",
    "    # function statements\n",
    "```\n",
    "\n",
    "#### B. Manual Function Assignment\n",
    "\n",
    "```Python \n",
    "def function(n):\n",
    "    # function statements\n",
    "\n",
    "function = wrapper(function)\n",
    "```\n",
    "### **Real-Life Analogy of Decorators**\n",
    "\n",
    " - **Coffee Shop - Wrapping a Drink:** Think of ordering a coffee in a coffee shop. You start with a **base drink**, such as black coffee. Then you ask for **add-ons** such as milk, sugar, or whipped cream. These add-ons don’t change the core coffee but enhance or modify its taste.\n",
    "- **Base function**: Black coffee.\n",
    "- **Decorator function**: Milk, sugar, whipped cream — each modifies the coffee without changing the original coffee-making process.\n",
    "\n",
    "In code terms, decorators act like these add-ons: they wrap the original function and extend its behavior.\n"
   ]
  },
  {
   "cell_type": "code",
   "execution_count": 21,
   "id": "2a5829db",
   "metadata": {},
   "outputs": [
    {
     "name": "stdout",
     "output_type": "stream",
     "text": [
      "Access Denied!\n",
      "Welcome admin, access granted.\n"
     ]
    }
   ],
   "source": [
    "def admin_only(f):\n",
    "    \"\"\"Restricts access to admin users.\"\"\"\n",
    "    def wrap(user):\n",
    "        if user != \"admin\":\n",
    "            return print(\"Access Denied!\")\n",
    "        return f(user)\n",
    "    return wrap\n",
    "\n",
    "@admin_only\n",
    "def access_data(user):\n",
    "    print(f\"Welcome {user}, access granted.\")\n",
    "\n",
    "# Test cases\n",
    "access_data(\"guest\")\n",
    "access_data(\"admin\")"
   ]
  },
  {
   "cell_type": "markdown",
   "id": "2ef71dfd",
   "metadata": {},
   "source": [
    "**Explanation**\n",
    "The `@admin_only` decorator wraps the `access_data` function with logic that checks if the user is `\"admin\"`  \n",
    "Execution: \n",
    "1. access_data(\"guest\")\n",
    "   -  \"guest\" is not \"admin\"\n",
    "   -   Prints: \"Access Denied!\"\n",
    "2. access_data(\"admin\")  \n",
    "   - \"admin\" is allowed\n",
    "   - Calls access_data(\"admin\")\n",
    "   - Prints: \"Welcome admin, access granted.\""
   ]
  },
  {
   "cell_type": "markdown",
   "id": "33013649",
   "metadata": {},
   "source": [
    "## Activity: Hands-on Practice for Classes and Objects\n",
    "\n",
    "### Objective\n",
    "To apply core concepts of classes and objects in Python by modeling a basic Student Management System.\n",
    "\n",
    "### Instructions\n",
    " - In this activity, you're tasked with creating a simple system to manage student records using Python classes. Each student will have personal data and performance information. You will build functionality step by step to understand object creation, method definition, and data manipulation using class-based design. \n",
    " - Choose the difficulty level based on your proficiency.\n",
    " - You may solve the activity in your Colab notebook. \n",
    "\n",
    "\n",
    "#### **Beginner**\n",
    "\n",
    " 1. Define a `Student` class with basic attributes and a display method\n",
    "    - Create a `Student` class with attributes: `name`, `roll_number`, and `marks`\n",
    "    - Include a method `display_info()` to print a student's details\n",
    "    - Focus on understanding class structure and basic method definition\n",
    "\n",
    "2. Create three Student objects and test display functionality\n",
    "    - Create three Student objects with different sets of data\n",
    "    - Call the `display_info()` method for each student\n",
    "    - Practice object instantiation and method calling\n",
    "\n",
    "\n",
    "#### **Intermediate**\n",
    "\n",
    " 3. Add conditional logic with `is_passed()` method\n",
    "    - Add a method `is_passed()` to the class that returns `\"Passed\"` if `marks >= 40`, otherwise `\"Failed\"`\n",
    "    - Implement conditional logic within a class method\n",
    "    - Learn to return meaningful status information\n",
    "\n",
    " 4. Implement data modification with the `update_marks()` method\n",
    "     - Add a method `update_marks(new_marks)` to allow updating a student's marks\n",
    "    - Practice modifying object attributes through methods\n",
    "    - Understand encapsulation and controlled data access\n",
    "\n",
    "\n",
    "#### **Advanced**\n",
    "\n",
    " 5. Create a function to manage multiple Student objects\n",
    "- Write a function `print_all_students(student_list)` that accepts a list of Student objects\n",
    "- Print each student's name along with their result (`Passed` or `Failed`) using the `is_passed()` method\n",
    "- Learn to work with collections of objects and integrate multiple class methods\n",
    "\n",
    "\n",
    "**Expected Outcome:**  \n",
    "- Practice designing a real-world class structure.\n",
    "- Understand how methods and attributes interact in an object.\n",
    "- Learn how to manipulate multiple objects as a group.\n"
   ]
  },
  {
   "cell_type": "code",
   "execution_count": 2,
   "id": "46d93dd4",
   "metadata": {},
   "outputs": [
    {
     "name": "stdout",
     "output_type": "stream",
     "text": [
      "1. Student class defined with basic attributes and display method\n",
      "   ✓ Class created with __init__ method\n",
      "   ✓ display_info() method implemented\n",
      "\n",
      "2. Creating three Student objects and displaying their information:\n",
      "Name: Alice, Roll No: 101, Marks: 85\n",
      "Name: Bob, Roll No: 102, Marks: 33\n",
      "Name: Charlie, Roll No: 103, Marks: 60\n",
      "\n",
      "============================================================\n",
      "============================================================\n",
      "3. Testing is_passed() method with conditional logic:\n",
      "   Alice: Passed\n",
      "   Bob: Failed\n",
      "   Charlie: Passed\n",
      "\n",
      "4. Testing update_marks() method for data modification:\n",
      "   Before update - Bob: 33 marks\n",
      "   After update - Bob: 45 marks\n",
      "   New status: Passed\n",
      "\n",
      "============================================================\n",
      "============================================================\n",
      "5. Function to manage multiple Student objects:\n",
      "Student Results Summary:\n",
      "------------------------------\n",
      "Alice - Passed\n",
      "Bob - Passed\n",
      "Charlie - Passed\n",
      "Diana - Failed\n"
     ]
    }
   ],
   "source": [
    "# Solution to the Activity\n",
    "# Student Management System Solutions - By Difficulty Level\n",
    "\n",
    "\n",
    "# Beginner 1: Define a Student class with basic attributes and display method\n",
    "class Student:\n",
    "    def __init__(self, name, roll_number, marks):\n",
    "        self.name = name\n",
    "        self.roll_number = roll_number\n",
    "        self.marks = marks\n",
    "\n",
    "    def display_info(self):\n",
    "        print(f\"Name: {self.name}, Roll No: {self.roll_number}, Marks: {self.marks}\")\n",
    "\n",
    "print(\"1. Student class defined with basic attributes and display method\")\n",
    "print(\"   ✓ Class created with __init__ method\")\n",
    "print(\"   ✓ display_info() method implemented\")\n",
    "\n",
    "print()\n",
    "\n",
    "# Beginner 2: Create three Student objects and test display functionality\n",
    "print(\"2. Creating three Student objects and displaying their information:\")\n",
    "student1 = Student(\"Alice\", 101, 85)\n",
    "student2 = Student(\"Bob\", 102, 33)\n",
    "student3 = Student(\"Charlie\", 103, 60)\n",
    "\n",
    "student1.display_info()\n",
    "student2.display_info()\n",
    "student3.display_info()\n",
    "\n",
    "print(\"\\n\" + \"=\" * 60)\n",
    "print(\"=\" * 60)\n",
    "\n",
    "# Need to redefine the class with additional methods\n",
    "class Student:\n",
    "    def __init__(self, name, roll_number, marks):\n",
    "        self.name = name\n",
    "        self.roll_number = roll_number\n",
    "        self.marks = marks\n",
    "\n",
    "    def display_info(self):\n",
    "        print(f\"Name: {self.name}, Roll No: {self.roll_number}, Marks: {self.marks}\")\n",
    "    \n",
    "    # Intermediate 3: Add conditional logic with is_passed() method\n",
    "    def is_passed(self):\n",
    "        return \"Passed\" if self.marks >= 40 else \"Failed\"\n",
    "    \n",
    "    # Intermediate 4: Implement data modification with update_marks() method\n",
    "    def update_marks(self, new_marks):\n",
    "        self.marks = new_marks\n",
    "\n",
    "# Recreate objects with the updated class\n",
    "student1 = Student(\"Alice\", 101, 85)\n",
    "student2 = Student(\"Bob\", 102, 33)\n",
    "student3 = Student(\"Charlie\", 103, 60)\n",
    "\n",
    "print(\"3. Testing is_passed() method with conditional logic:\")\n",
    "print(f\"   {student1.name}: {student1.is_passed()}\")\n",
    "print(f\"   {student2.name}: {student2.is_passed()}\")\n",
    "print(f\"   {student3.name}: {student3.is_passed()}\")\n",
    "\n",
    "print()\n",
    "\n",
    "print(\"4. Testing update_marks() method for data modification:\")\n",
    "print(f\"   Before update - {student2.name}: {student2.marks} marks\")\n",
    "student2.update_marks(45)\n",
    "print(f\"   After update - {student2.name}: {student2.marks} marks\")\n",
    "print(f\"   New status: {student2.is_passed()}\")\n",
    "\n",
    "print(\"\\n\" + \"=\" * 60)\n",
    "print(\"=\" * 60)\n",
    "\n",
    "# Advanced 5: Create a function to manage multiple Student objects\n",
    "def print_all_students(student_list):\n",
    "    print(\"Student Results Summary:\")\n",
    "    print(\"-\" * 30)\n",
    "    for student in student_list:\n",
    "        print(f\"{student.name} - {student.is_passed()}\")\n",
    "\n",
    "print(\"5. Function to manage multiple Student objects:\")\n",
    "\n",
    "# Create a list of students\n",
    "all_students = [student1, student2, student3]\n",
    "\n",
    "# Add one more student for demonstration\n",
    "student4 = Student(\"Diana\", 104, 25)\n",
    "all_students.append(student4)\n",
    "\n",
    "# Use the function to print all students\n",
    "print_all_students(all_students)\n",
    "\n",
    "\n"
   ]
  },
  {
   "cell_type": "code",
   "execution_count": null,
   "id": "41365d17",
   "metadata": {},
   "outputs": [],
   "source": []
  }
 ],
 "metadata": {
  "kernelspec": {
   "display_name": "3.11.13",
   "language": "python",
   "name": "python3"
  },
  "language_info": {
   "codemirror_mode": {
    "name": "ipython",
    "version": 3
   },
   "file_extension": ".py",
   "mimetype": "text/x-python",
   "name": "python",
   "nbconvert_exporter": "python",
   "pygments_lexer": "ipython3",
   "version": "3.11.13"
  }
 },
 "nbformat": 4,
 "nbformat_minor": 5
}
