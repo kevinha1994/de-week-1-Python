{
 "cells": [
  {
   "cell_type": "markdown",
   "id": "22a41e17-beb8-4e4f-8b75-439d20a71a75",
   "metadata": {},
   "source": [
    "# 1) Numeric Variable Types — Exercises\n",
    "\n",
    "**Learning goals:** integers vs floats, integer division, modulo, rounding, conversions, boolean math, overflow (arbitrary precision), simple aggregates.\n"
   ]
  },
  {
   "cell_type": "markdown",
   "id": "1b938b06-5633-448b-9bbd-708cad7ee165",
   "metadata": {},
   "source": [
    "### Warm-ups\n",
    "\n",
    "1. **Type explorer**\n",
    "\n",
    "   * Write `num_type(x)` → return the exact type name (`\"int\"`, `\"float\"`, `\"bool\"`).\n",
    "\n",
    "   ```python\n",
    "   def num_type(x):\n",
    "       ...\n",
    "   assert num_type(3) == \"int\"\n",
    "   assert num_type(2.0) == \"float\"\n",
    "   assert num_type(True) == \"bool\"\n",
    "   ```\n",
    "\n",
    "2. **Safe division**\n",
    "\n",
    "   * Write `safe_div(a, b, default=None)` that returns `a/b` as `float`; if `b==0` return `default`.\n",
    "\n",
    "   ```python\n",
    "   def safe_div(a, b, default=None):\n",
    "       ...\n",
    "   assert safe_div(6, 3) == 2.0\n",
    "   assert safe_div(1, 0, default=float('inf')) == float('inf')\n",
    "   ```\n",
    "\n",
    "3. **Integer vs float division**\n",
    "\n",
    "   * Write `divisions(a, b)` → `(a // b, a / b, a % b)`; handle negatives correctly.\n",
    "\n",
    "   ```python\n",
    "   def divisions(a, b):\n",
    "       ...\n",
    "   assert divisions(7, 3) == (2, 7/3, 1)\n",
    "   assert divisions(-7, 3)[0] == -3   # floor division\n",
    "   ```\n",
    "\n",
    "### Core\n",
    "\n",
    "4. **Rounding modes**\n",
    "\n",
    "   * Write `bankers_round(x, ndigits=0)` using `round()` (banker’s rounding) and `classic_round(x, ndigits=0)` emulating *away-from-zero* rounding.\n",
    "\n",
    "   ```python\n",
    "   def bankers_round(x, ndigits=0):\n",
    "       ...\n",
    "   def classic_round(x, ndigits=0):\n",
    "       ...\n",
    "   assert bankers_round(2.5) == 2\n",
    "   assert classic_round(2.5) == 3\n",
    "   ```\n",
    "\n",
    "5. **Parse numbers**\n",
    "\n",
    "   * Write `parse_int(s, base=10, default=None)` that trims whitespace, supports underscores (`\"1_000\"`), and returns `default` on `ValueError`.\n",
    "\n",
    "   ```python\n",
    "   def parse_int(s, base=10, default=None):\n",
    "       ...\n",
    "   assert parse_int(\" 1_024 \") == 1024\n",
    "   assert parse_int(\"FF\", base=16) == 255\n",
    "   assert parse_int(\"oops\", default=-1) == -1\n",
    "   ```\n",
    "\n",
    "6. **Boolean arithmetic**\n",
    "\n",
    "   * Write `true_ratio(seq)` that returns the fraction of truthy values in `seq`.\n",
    "\n",
    "   ```python\n",
    "   def true_ratio(seq):\n",
    "       ...\n",
    "   assert abs(true_ratio([True, False, 1, 0, \"\", \"x\"]) - 0.5) < 1e-9\n",
    "   ```\n",
    "\n",
    "7. **Min/Max & aggregates**\n",
    "\n",
    "   * Write `stats(nums)` → dict with `count, total, mean, minimum, maximum`. Empty list → return zeros/`None` appropriately.\n",
    "\n",
    "   ```python\n",
    "   def stats(nums):\n",
    "       ...\n",
    "   assert stats([1,2,3])[\"mean\"] == 2\n",
    "   ```\n",
    "\n",
    "8. **Bucket by step**\n",
    "\n",
    "   * Write `bucket(x, step)` → largest multiple of `step` ≤ `x` (works with negatives).\n",
    "\n",
    "   ```python\n",
    "   def bucket(x, step):\n",
    "       ...\n",
    "   assert bucket(37, 10) == 30\n",
    "   assert bucket(-3, 5) == -5\n",
    "   ```\n",
    "\n",
    "9. **Time math (seconds → h\\:m\\:s)**\n",
    "\n",
    "   * Write `to_hms(seconds)` → `\"HH:MM:SS\"` with zero-padding.\n",
    "\n",
    "   ```python\n",
    "   def to_hms(seconds):\n",
    "       ...\n",
    "   assert to_hms(3661) == \"01:01:01\"\n",
    "   ```\n",
    "\n",
    "### Challenge\n",
    "\n",
    "10. **Running totals with precise rounding**\n",
    "\n",
    "    * Write `running_totals(amounts, ndigits=2)` that returns cumulative sums rounded at each step (like financial ledgers) using banker’s rounding. Example: `[10.005, 0.005]` → `[10.01, 10.02]`.\n",
    "\n",
    "    ```python\n",
    "    def running_totals(amounts, ndigits=2):\n",
    "        ...\n",
    "    assert running_totals([10.005, 0.005], 2) == [10.01, 10.02]\n",
    "    ```\n",
    "\n"
   ]
  },
  {
   "cell_type": "code",
   "execution_count": 1,
   "id": "e9308326",
   "metadata": {},
   "outputs": [],
   "source": [
    "# 1. type explorer\n",
    "def num_type(x):\n",
    "    return type(x)\n",
    "\n",
    "num_type(3)\n",
    "assert num_type(3) == int\n",
    "assert num_type(2.0) == float\n",
    "assert num_type(True) == bool"
   ]
  },
  {
   "cell_type": "code",
   "execution_count": 18,
   "id": "764266af",
   "metadata": {},
   "outputs": [],
   "source": [
    "# 2. safe devision\n",
    "def save_div(a, b, default = None):\n",
    "    if b == 0:\n",
    "        return default\n",
    "    return a/b\n",
    "\n",
    "assert save_div(6,3) == 2.0\n",
    "assert save_div(1, 0 , default = float('inf')) == float('inf')"
   ]
  },
  {
   "cell_type": "code",
   "execution_count": 2,
   "id": "b5dbb347",
   "metadata": {},
   "outputs": [],
   "source": [
    "# 3.integer vs float divisions\n",
    "def divisions(a, b):\n",
    "    res = (a//b, a/b, a%b)\n",
    "    return res\n",
    "\n",
    "assert divisions(7, 3) == (2, 7/3, 1)\n",
    "assert divisions(-7,3)[0] == -3"
   ]
  },
  {
   "cell_type": "code",
   "execution_count": 38,
   "id": "d3210dd0",
   "metadata": {},
   "outputs": [
    {
     "name": "stdout",
     "output_type": "stream",
     "text": [
      "2.35\n"
     ]
    }
   ],
   "source": [
    "import math\n",
    "# 4.Rounding modes\n",
    "def bankers_round(x, ndigits=0):\n",
    "    return round(x//1, ndigits)\n",
    "def classic_round(x, ndigits=0):\n",
    "    shift = 10**ndigits\n",
    "    return math.floor(x*shift + 0.5)/shift\n",
    "\n",
    "assert bankers_round(2.5, 0) == 2 \n",
    "assert classic_round(2.5, 0) == 3\n",
    "print(classic_round(2.345, 2))"
   ]
  },
  {
   "cell_type": "code",
   "execution_count": 4,
   "id": "d3d7ace1",
   "metadata": {},
   "outputs": [],
   "source": [
    "# 5. Parse numbers\n",
    "def parse_int(s, base=10, default=None):\n",
    "    string = s.strip(\" \").strip(\"_\")\n",
    "    try:\n",
    "        return int(string, base)\n",
    "    except:\n",
    "        return default\n",
    "\n",
    "assert parse_int(\" 1_024 \") == 1024\n",
    "assert parse_int(\"FF\", base=16) == 255\n",
    "assert parse_int(\"oops\", default=-1) == -1"
   ]
  },
  {
   "cell_type": "code",
   "execution_count": 72,
   "id": "fed0bb6f",
   "metadata": {},
   "outputs": [],
   "source": [
    "# 6. Boolean arithmetic\n",
    "def true_ratio(seq):\n",
    "    return sum(bool(x) for x in seq)/len(seq)\n",
    "\n",
    "assert abs(true_ratio([True, False, 1, 0, \"\", \"x\"]) - 0.5) < 1e-9"
   ]
  },
  {
   "cell_type": "code",
   "execution_count": 19,
   "id": "812f5e83",
   "metadata": {},
   "outputs": [],
   "source": [
    "# 7. Min/Max & aggregates\n",
    "import math\n",
    "def stats(nums):\n",
    "    return {\"mean\": sum(nums)/len(nums), \"total\": sum(nums), \"minimum\": min(nums), \"maximum\": max(nums)}\n",
    "\n",
    "assert stats([1, 2, 3])[\"mean\"] == 2\n",
    "assert stats([1, 2, 3])[\"total\"] == 6\n"
   ]
  },
  {
   "cell_type": "code",
   "execution_count": 23,
   "id": "e4f0fcc2",
   "metadata": {},
   "outputs": [],
   "source": [
    "# 8. Bucket by steps\n",
    "def bucket(x, step):\n",
    "    rest = x % step\n",
    "    multiple = x - rest\n",
    "    return multiple\n",
    "\n",
    "assert bucket(37, 10) == 30\n",
    "assert bucket(-3, 5) == -5"
   ]
  },
  {
   "cell_type": "code",
   "execution_count": 62,
   "id": "f2461324",
   "metadata": {},
   "outputs": [
    {
     "name": "stdout",
     "output_type": "stream",
     "text": [
      "01:00:00\n"
     ]
    }
   ],
   "source": [
    "# 9. Time math (seconds -> h:m:s)\n",
    "'''\n",
    "def to_hms(seconds):\n",
    "    s = seconds % 60\n",
    "    seconds_new = seconds - s\n",
    "    m = seconds_new/60\n",
    "    if m < 59:\n",
    "        h = 0\n",
    "    else:\n",
    "        m_new = m % 60\n",
    "        m_rest = m - m_new\n",
    "        m = m_new\n",
    "        h = m_rest/60\n",
    "    hms_string = \"%d:%d:%d\" % (h, m, s)\n",
    "    return hms_string\n",
    "'''\n",
    "\n",
    "def to_hms(seconds):\n",
    "    s = seconds % 60\n",
    "    #seconds_m = seconds - s\n",
    "    m = (seconds//60) % 60\n",
    "    h = seconds//(60*60)\n",
    "    hms_string = \"%02d:%02d:%02d\" % (h, m, s)\n",
    "    return hms_string\n",
    "print(to_hms(3600))\n",
    "assert to_hms(3661) == \"01:01:01\""
   ]
  },
  {
   "cell_type": "code",
   "execution_count": 128,
   "id": "eeb4a3ff",
   "metadata": {},
   "outputs": [
    {
     "name": "stdout",
     "output_type": "stream",
     "text": [
      "0.01\n",
      "[10.01, 10.01]\n"
     ]
    }
   ],
   "source": [
    "# 10. Running totals with precise rounding\n",
    "import math\n",
    "def running_totals(amounts, ndigits = 2):\n",
    "    #res = [round(i-1e-9, ndigits) for i in amounts]\n",
    "    res = [round(i, ndigits) for i in amounts]\n",
    "    res_sum = round(sum(amounts), ndigits)\n",
    "    res[-1] = res_sum\n",
    "    print(res)\n",
    "    return res\n",
    "\n",
    "print(round(0.005, 2))\n",
    "assert running_totals([10.005, 0.005], 2) == [10.01, 10.01]\n"
   ]
  }
 ],
 "metadata": {
  "kernelspec": {
   "display_name": ".venv",
   "language": "python",
   "name": "python3"
  },
  "language_info": {
   "codemirror_mode": {
    "name": "ipython",
    "version": 3
   },
   "file_extension": ".py",
   "mimetype": "text/x-python",
   "name": "python",
   "nbconvert_exporter": "python",
   "pygments_lexer": "ipython3",
   "version": "3.11.13"
  }
 },
 "nbformat": 4,
 "nbformat_minor": 5
}
