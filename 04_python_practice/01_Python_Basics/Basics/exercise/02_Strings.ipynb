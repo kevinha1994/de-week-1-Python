{
 "cells": [
  {
   "cell_type": "markdown",
   "id": "9b0d0c20-5d0d-4e47-8552-e4267eef27b1",
   "metadata": {},
   "source": [
    "# 2) Strings — Exercises\n",
    "\n",
    "**Learning goals:** indexing/slicing, methods, immutability, join/split, normalization, searching, simple formatting.\n"
   ]
  },
  {
   "cell_type": "markdown",
   "id": "5bd86df0-fd51-40c5-a69c-2e832312e85e",
   "metadata": {},
   "source": [
    "### Warm-ups\n",
    "\n",
    "1. **Middle char(s)**\n",
    "\n",
    "   * `middle(s)` → If odd length return the middle char, else return the two middle chars.\n",
    "\n",
    "   ```python\n",
    "   def middle(s):\n",
    "       ...\n",
    "   assert middle(\"abc\") == \"b\"\n",
    "   assert middle(\"abba\") == \"bb\"\n",
    "   ```\n",
    "\n",
    "2. **Title-case safely**\n",
    "\n",
    "   * `safe_title(s)` → title case but do not lowercase words fully in ALL CAPS acronyms (e.g., `\"learn SQL now\"` → `\"Learn SQL Now\"`; `\"use GPU\"` → `\"Use GPU\"`).\n",
    "\n",
    "   ```python\n",
    "   def safe_title(s):\n",
    "       ...\n",
    "   ```\n",
    "\n",
    "3. **Reverse words**\n",
    "\n",
    "   * `reverse_words(s)` → reverse word order but keep internal characters.\n",
    "\n",
    "   ```python\n",
    "   def reverse_words(s):\n",
    "       ...\n",
    "   assert reverse_words(\"one two  three\") == \"three two  one\"\n",
    "   ```\n",
    "\n",
    "### Core\n",
    "\n",
    "4. **Normalize spaces**\n",
    "\n",
    "   * `squash_spaces(s)` → collapse multiple spaces/tabs to a single space; strip ends.\n",
    "\n",
    "   ```python\n",
    "   def squash_spaces(s):\n",
    "       ...\n",
    "   assert squash_spaces(\"  a\\t b   c \") == \"a b c\"\n",
    "   ```\n",
    "\n",
    "5. **CSV line → list (no quotes)**\n",
    "\n",
    "   * `split_csv(s)` → split by commas, trim whitespace around fields; ignore empty trailing field if line ends with comma.\n",
    "\n",
    "   ```python\n",
    "   def split_csv(s):\n",
    "       ...\n",
    "   assert split_csv(\" a, b ,c,\") == [\"a\",\"b\",\"c\"]\n",
    "   ```\n",
    "\n",
    "6. **Mask secrets**\n",
    "\n",
    "   * `mask_email(s)` → keep first char of user and domain, mask the rest with `*`, keep TLD.\n",
    "\n",
    "     * `\"alice@example.com\"` → `\"a****@e******.com\"`\n",
    "\n",
    "   ```python\n",
    "   def mask_email(s):\n",
    "       ...\n",
    "   ```\n",
    "\n",
    "7. **Find all indexes**\n",
    "\n",
    "   * `find_all(s, sub)` → list of start indices where `sub` occurs (including overlaps).\n",
    "\n",
    "   ```python\n",
    "   def find_all(s, sub):\n",
    "       ...\n",
    "   assert find_all(\"aaaa\", \"aa\") == [0,1,2]\n",
    "   ```\n",
    "\n",
    "8. **Anagram check**\n",
    "\n",
    "   * `is_anagram(a, b)` ignoring spaces, case, punctuation.[Anagram](https://en.wikipedia.org/wiki/Anagram)\n",
    "\n",
    "   ```python\n",
    "   def is_anagram(a, b):\n",
    "       ...\n",
    "   assert is_anagram(\"Listen\", \"Silent\")\n",
    "   ```\n",
    "\n",
    "9. **Format table row**\n",
    "\n",
    "   * `fmt_row(values, widths)` → left-align strings to fixed widths, joined by `\" | \"`.\n",
    "\n",
    "   ```python\n",
    "   def fmt_row(values, widths):\n",
    "       ...\n",
    "   assert fmt_row([\"a\",\"bb\"], [3,4]) == \"a   | bb  \"\n",
    "   ```\n",
    "\n",
    "### Challenge\n",
    "\n",
    "10. **Slugify**\n",
    "\n",
    "    * `slugify(title)` → lowercase, trim, replace runs of non-alnum with single `-`, remove leading/trailing `-`.\n",
    "\n",
    "    ```python\n",
    "    def slugify(title):\n",
    "        ...\n",
    "    assert slugify(\"Hello,  World!!\") == \"hello-world\"\n",
    "    ```\n",
    "\n"
   ]
  },
  {
   "cell_type": "code",
   "execution_count": 16,
   "id": "24314b1f",
   "metadata": {},
   "outputs": [],
   "source": [
    "# 1. Middle char(s)\n",
    "def middle(s):\n",
    "    s_l = len(s)\n",
    "    if (s_l % 2 != 0):\n",
    "        s_m = s[int(s_l/2)]\n",
    "    else:\n",
    "        s_m = s[1:s_l-1]\n",
    "    return s_m\n",
    "\n",
    "assert middle(\"abc\") == \"b\"\n",
    "assert middle(\"abbc\") == \"bb\""
   ]
  },
  {
   "cell_type": "code",
   "execution_count": 55,
   "id": "ba449ac6",
   "metadata": {},
   "outputs": [
    {
     "name": "stdout",
     "output_type": "stream",
     "text": [
      "Learn SQL Now\n"
     ]
    }
   ],
   "source": [
    "# 2. Title-case safely\n",
    "def safe_title(s):\n",
    "    s_list = s.split()\n",
    "    j = 0\n",
    "    res = \"\"\n",
    "    for i in s_list:    \n",
    "        res_sub = i[0].upper() + i[1:len(i)]\n",
    "        res = res + \" \" + res_sub\n",
    "        res = res.strip(\" \")\n",
    "    return res\n",
    "\n",
    "\n",
    "ex_str = \"learn SQL now\"\n",
    "print(safe_title(ex_str))\n",
    "assert safe_title(ex_str) == \"Learn SQL Now\"\n",
    "assert safe_title(\"use GPU\") == \"Use GPU\""
   ]
  },
  {
   "cell_type": "code",
   "execution_count": 77,
   "id": "d2d5b5a4",
   "metadata": {},
   "outputs": [],
   "source": [
    "# 3. Reverse words\n",
    "def reverse_words(s):\n",
    "    s_list = s.split()\n",
    "    s_list = s_list[::-1]\n",
    "    s_list = \" \".join(s_list)\n",
    "    return s_list\n",
    "\n",
    "s_test = \"one two three\"\n",
    "assert reverse_words(s_test) == \"three two one\""
   ]
  },
  {
   "cell_type": "code",
   "execution_count": 93,
   "id": "3520c464",
   "metadata": {},
   "outputs": [
    {
     "name": "stdout",
     "output_type": "stream",
     "text": [
      "a b c\n"
     ]
    }
   ],
   "source": [
    "# 4. Normalize spaces\n",
    "def squash_spaces(s):\n",
    "    s_list = s.split()\n",
    "    s_res = \"\"\n",
    "    for i in range(0,len(s_list)):\n",
    "        if s_list[i] == \" \":\n",
    "            continue\n",
    "        s_res = s_res + s_list[i] + \" \"\n",
    "    s_res = s_res.strip(\" \")\n",
    "    return s_res\n",
    "\n",
    "# Better solution\n",
    "def squash_spaces_v2(s):\n",
    "    return \" \".join(s.split())\n",
    "\n",
    "s_test = \"   a\\t b  c \"\n",
    "print(squash_spaces(s_test))\n",
    "assert squash_spaces(s_test) == \"a b c\"\n",
    "assert squash_spaces_v2(s_test) == \"a b c\""
   ]
  },
  {
   "cell_type": "code",
   "execution_count": 112,
   "id": "608e6e98",
   "metadata": {},
   "outputs": [
    {
     "name": "stdout",
     "output_type": "stream",
     "text": [
      "['a', 'b', 'c']\n"
     ]
    }
   ],
   "source": [
    "# 5. CSV line -> list (no quotes)\n",
    "def split_csv(s):\n",
    "    # return s.replace(\" \", \"\").split(\",\")\n",
    "    res = [item.strip() for item in s.split(\",\") if item != \"\"]\n",
    "    return res\n",
    "\n",
    "s_test = \" a, b ,c,\"\n",
    "print(split_csv(s_test))\n",
    "assert split_csv(s_test) == [\"a\", \"b\", \"c\"]"
   ]
  },
  {
   "cell_type": "code",
   "execution_count": null,
   "id": "5abebdf6",
   "metadata": {},
   "outputs": [
    {
     "name": "stdout",
     "output_type": "stream",
     "text": [
      "h*****************.de\n",
      "h*********@h******.de\n"
     ]
    }
   ],
   "source": [
    "# 6. Mask secrets\n",
    "def mask_emails(s):\n",
    "    res = \"\"\n",
    "    for i in range(0,len(s)):\n",
    "        if i==0:\n",
    "            res = res + s[i]\n",
    "        elif s[i] != \".\":\n",
    "            res = res + \"*\"\n",
    "        else:\n",
    "            res = res + s[i:]\n",
    "            break\n",
    "    #res = \"\".join(res)\n",
    "    print(res)\n",
    "\n",
    "# Alternative solution\n",
    "def mask_emails_v2(s):\n",
    "    s_b_dot, s_a_dot = s.split(\".\",1)\n",
    "    s_b_at, s_a_at = s_b_dot.split(\"@\",1)\n",
    "    res = s_b_at[0] + \"*\"*len(s_b_at[1:]) + \"@\" + s_a_at[0] + \"*\"*len(s_a_at[1:]) + \".\" + s_a_dot\n",
    "    print(res)\n",
    "\n",
    "s_test = \"hasswkevin@hotmail.de\"\n",
    "mask_emails(s_test)\n",
    "mask_emails_v2(s_test)"
   ]
  },
  {
   "cell_type": "code",
   "execution_count": 2,
   "id": "2d0b4124",
   "metadata": {},
   "outputs": [
    {
     "name": "stdout",
     "output_type": "stream",
     "text": [
      "[1, 4, 5]\n"
     ]
    }
   ],
   "source": [
    "# 7. Find all indexes\n",
    "def find_all(s, sub):\n",
    "    idx_list = []\n",
    "    pos = 0\n",
    "    while pos < len(s):\n",
    "        idx = s.find(sub, pos)\n",
    "        if idx == -1:\n",
    "            break\n",
    "        idx_list.append(idx)\n",
    "        pos = idx + 1\n",
    "    return idx_list\n",
    "\n",
    "#print(\"aabaa\".index(\"aa\", 2))\n",
    "s_test = \"baabaaa\"\n",
    "s_sub_test = \"aa\"\n",
    "#print(s_test.index(s_sub_test, 0))\n",
    "print(find_all(s_test, s_sub_test))"
   ]
  },
  {
   "cell_type": "code",
   "execution_count": 39,
   "id": "29e36114",
   "metadata": {},
   "outputs": [],
   "source": [
    "# 8. Anagram check\n",
    "def is_anagram(a, b):\n",
    "    strip_list = [\".\", \",\", \" \", \"!\"]\n",
    "    a = a.lower()\n",
    "    b = b.lower()\n",
    "    for i in strip_list:\n",
    "        a = a.replace(i,\"\")\n",
    "        b = b.replace(i,\"\")\n",
    "    return sorted(a) == sorted(b)\n",
    "''''\n",
    "for i in a:\n",
    "        if i in b and len(a)==len(b):\n",
    "            continue\n",
    "        else:\n",
    "            return False\n",
    "    return True\n",
    "'''\n",
    "\n",
    "assert is_anagram(\"Listen\", \"Silent\")\n",
    "assert is_anagram(\"Hello, World!\", \"hello world\")"
   ]
  },
  {
   "cell_type": "code",
   "execution_count": 57,
   "id": "ac6f719c",
   "metadata": {},
   "outputs": [
    {
     "name": "stdout",
     "output_type": "stream",
     "text": [
      "a  | bb  \n"
     ]
    }
   ],
   "source": [
    "# 9. Format table row\n",
    "def fmt_row(values, widths):\n",
    "    res = \"\"\n",
    "    for i in range(0,len(values)):\n",
    "        res = res + values[i] + \" \"*(widths[i]-len(values[i]))\n",
    "        if i < len(values)-1:\n",
    "            res = res + \"| \"\n",
    "    return res\n",
    "\n",
    "str_test = [\"a\", \"bb\"]\n",
    "str_widths = [3, 4]\n",
    "print(fmt_row(str_test, str_widths))\n",
    "assert fmt_row(str_test, str_widths) == \"a  | bb  \""
   ]
  },
  {
   "cell_type": "code",
   "execution_count": 64,
   "id": "48caabce",
   "metadata": {},
   "outputs": [
    {
     "name": "stdout",
     "output_type": "stream",
     "text": [
      "hello-world\n"
     ]
    }
   ],
   "source": [
    "# 10. Slugify\n",
    "def slugify(title):\n",
    "    strip_list = [\" \", \",\", \"!\"]\n",
    "    title = title.lower()\n",
    "    title = title.split(\" \")    \n",
    "    for i in range(0,len(title)):\n",
    "        for j in strip_list:\n",
    "            title[i] = title[i].replace(j, \"\")\n",
    "    return \"-\".join(title)\n",
    "\n",
    "str_test = \"Hello, World!!\"\n",
    "print(slugify(str_test))"
   ]
  },
  {
   "cell_type": "code",
   "execution_count": null,
   "id": "1fb3e138",
   "metadata": {},
   "outputs": [],
   "source": []
  }
 ],
 "metadata": {
  "kernelspec": {
   "display_name": ".venv",
   "language": "python",
   "name": "python3"
  },
  "language_info": {
   "codemirror_mode": {
    "name": "ipython",
    "version": 3
   },
   "file_extension": ".py",
   "mimetype": "text/x-python",
   "name": "python",
   "nbconvert_exporter": "python",
   "pygments_lexer": "ipython3",
   "version": "3.11.13"
  }
 },
 "nbformat": 4,
 "nbformat_minor": 5
}
