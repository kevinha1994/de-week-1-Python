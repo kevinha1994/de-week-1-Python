{
 "cells": [
  {
   "cell_type": "markdown",
   "id": "f567dd41-7e8b-4b97-a156-336f45680db4",
   "metadata": {},
   "source": [
    "# 3) If-Statement (if/elif/else) — Exercises\n",
    "\n",
    "**Learning goals:** boolean logic, truthiness, guards, ternary expressions, input validation."
   ]
  },
  {
   "cell_type": "markdown",
   "id": "8c4a3086-5464-4577-937b-d81da8a09e0f",
   "metadata": {},
   "source": [
    "### Warm-ups\n",
    "\n",
    "1. **FizzBuzz (classic)**\n",
    "\n",
    "   * `fizzbuzz(n)` → `\"Fizz\"`, `\"Buzz\"`, `\"FizzBuzz\"`, or `str(n)`.\n",
    "\n",
    "   ```python\n",
    "   def fizzbuzz(n):\n",
    "       ...\n",
    "   assert fizzbuzz(15) == \"FizzBuzz\"\n",
    "   ```\n",
    "\n",
    "2. **Categorize temperature**\n",
    "\n",
    "   * `temp_label(c)` → `freezing` (<0), `cold` (<10), `mild` (<20), `warm` (<30), `hot` (else).\n",
    "\n",
    "   ```python\n",
    "   def temp_label(c):\n",
    "       ...\n",
    "   ```\n",
    "\n",
    "3. **Truthy length**\n",
    "\n",
    "   * `choose_label(s)` → `\"empty\"` if string is empty/whitespace; `\"short\"` (≤3), `\"long\"` (>3).\n",
    "\n",
    "   ```python\n",
    "   def choose_label(s):\n",
    "       ...\n",
    "   ```\n",
    "\n",
    "### Core\n",
    "\n",
    "4. **Grade boundaries**\n",
    "\n",
    "   * `grade(score)` with 0–100 validation; raise `ValueError` otherwise. Return `A/B/C/D/F`.\n",
    "\n",
    "   ```python\n",
    "   def grade(score):\n",
    "       ...\n",
    "   ```\n",
    "\n",
    "\n",
    "5. **Password strength (simple)**\n",
    "\n",
    "   * `password_strength(s)` returns `\"weak\"`, `\"medium\"`, `\"strong\"` based on length and presence of digit/special.\n",
    "\n",
    "    * \"weak\": less than 6 characters, or only letters or only digits\n",
    "\n",
    "    * \"medium\": at least 6 characters, with both letters and digits\n",
    "\n",
    "    * \"strong\": at least 8 characters, with letters, digits, and special characters\n",
    "\n",
    "   ```python\n",
    "   def password_strength(s):\n",
    "       ...\n",
    "   ```\n",
    "\n",
    "6. **Shipping rules**\n",
    "\n",
    "   * `shipping_cost(weight_kg, country, premium=False)`:\n",
    "\n",
    "     * base by weight: ≤1kg: 5; ≤5kg: 10; else: 20\n",
    "     * non-local country adds 15\n",
    "     * premium adds +25 at the end\n",
    "\n",
    "   ```python\n",
    "   def shipping_cost(weight_kg, country, premium=False, local_country=\"IN\"):\n",
    "       ...\n",
    "   ```\n",
    "\n",
    "7. **Pick earliest valid date**\n",
    "\n",
    "   * Given three `(y,m,d)` tuples, `earliest_valid(dates)` where each must pass simple checks (1≤m≤12, 1≤d≤31) else ignore. Return earliest valid or `None`.\n",
    "\n",
    "   ```python\n",
    "   def earliest_valid(dates):\n",
    "       ...\n",
    "   ```\n",
    "\n",
    "8. **Safe cast**\n",
    "\n",
    "   * `to_int(s, default=None)` returns int or default; only accept pure integer strings (e.g., `\" 12 \"` ok after strip, `\"12.0\"` not ok).\n",
    "\n",
    "   ```python\n",
    "   def to_int(s, default=None):\n",
    "       ...\n",
    "   ```\n",
    "\n",
    "9. **Guard clauses**\n",
    "\n",
    "   * `discount(price, code)` → if `price<=0` return 0; if `code==\"NONE\"` return `price`; if `code==\"HALF\"` return `price*0.5`; else return `price*0.9`.\n",
    "\n",
    "   ```python\n",
    "   def discount(price, code):\n",
    "       ...\n",
    "   ```\n",
    "\n",
    "### Challenge\n",
    "\n",
    "10. **Ternary map**\n",
    "\n",
    "    * `label_numbers(nums)` → for each n: `\"neg\" if n<0`, `\"zero\" if n==0`, `\"pos\" if n>0`. Use a list comprehension with a ternary chain internally (but focus on if-logic correctness).\n",
    "\n",
    "    ```python\n",
    "    def label_numbers(nums):\n",
    "        ...\n",
    "    assert label_numbers([-1,0,2]) == [\"neg\",\"zero\",\"pos\"]\n",
    "    ```\n",
    "\n"
   ]
  },
  {
   "cell_type": "code",
   "execution_count": 1,
   "id": "9d9dffb6",
   "metadata": {},
   "outputs": [],
   "source": [
    "# 1. Fizzbuzz\n",
    "def fizzbuzz(n):\n",
    "    if bool(n):\n",
    "        return \"FizzBuzz\"\n",
    "    \n",
    "assert fizzbuzz(15) == \"FizzBuzz\""
   ]
  },
  {
   "cell_type": "code",
   "execution_count": 7,
   "id": "8a71ab8b",
   "metadata": {},
   "outputs": [
    {
     "name": "stdout",
     "output_type": "stream",
     "text": [
      "Hot.\n"
     ]
    },
    {
     "data": {
      "text/plain": [
       "0"
      ]
     },
     "execution_count": 7,
     "metadata": {},
     "output_type": "execute_result"
    }
   ],
   "source": [
    "# 2. Categorize temperatures\n",
    "def tem_lable(c):\n",
    "    if c <0:\n",
    "        print(\"Freezing.\")\n",
    "    elif c<10:\n",
    "        print(\"Cold.\")\n",
    "    elif c<20:\n",
    "        print(\"Mild.\")\n",
    "    elif c<30:\n",
    "        print(\"Warm.\")\n",
    "    else:\n",
    "        print(\"Hot.\")\n",
    "    return 0\n",
    "\n",
    "tem_lable(31)"
   ]
  },
  {
   "cell_type": "code",
   "execution_count": null,
   "id": "1f5225d6",
   "metadata": {},
   "outputs": [
    {
     "name": "stdout",
     "output_type": "stream",
     "text": [
      "Empty\n"
     ]
    }
   ],
   "source": [
    "# 3. Truthy length\n",
    "def choose_label(s):\n",
    "    if len(s)==0 or s==\" \":\n",
    "        print(\"Empty\")\n",
    "    elif len(s)<=3:\n",
    "        print(\"Short\")\n",
    "    else:\n",
    "        print(\"Long\")\n",
    "\n",
    "choose_label(\"\")"
   ]
  },
  {
   "cell_type": "code",
   "execution_count": 24,
   "id": "5a8bca5b",
   "metadata": {},
   "outputs": [
    {
     "data": {
      "text/plain": [
       "'F'"
      ]
     },
     "execution_count": 24,
     "metadata": {},
     "output_type": "execute_result"
    }
   ],
   "source": [
    "# 4. Grade boundaries\n",
    "def grade(score):\n",
    "    if score>=85 and score<=100:\n",
    "        return \"A\"\n",
    "    elif score>=70 and score<85:\n",
    "        return \"B\"\n",
    "    elif score>=60 and score<70:\n",
    "        return \"C\"\n",
    "    elif score>=40 and score<60:\n",
    "        return \"D\"\n",
    "    elif score>=0 and score<40:\n",
    "        return \"F\"\n",
    "    else:\n",
    "        raise ValueError(\"Value must be inbetween 0 and 100.\")\n",
    "\n",
    "grade(34)"
   ]
  },
  {
   "cell_type": "code",
   "execution_count": 26,
   "id": "859032be",
   "metadata": {},
   "outputs": [
    {
     "data": {
      "text/plain": [
       "'medium'"
      ]
     },
     "execution_count": 26,
     "metadata": {},
     "output_type": "execute_result"
    }
   ],
   "source": [
    "# Password strength\n",
    "def password_strength(s):\n",
    "    s_len = len(s)\n",
    "    if s_len<5:\n",
    "        return \"weak\"\n",
    "    elif len(s)>=5 and len(s)<10:\n",
    "        return \"medium\"\n",
    "    elif len(s)>=10:\n",
    "        return \"strong\"\n",
    "\n",
    "s_test = \"aaaaa\"    \n",
    "password_strength(s_test)"
   ]
  },
  {
   "cell_type": "code",
   "execution_count": null,
   "id": "b7039aa1",
   "metadata": {},
   "outputs": [],
   "source": [
    "# 6. Shipping rules\n",
    "def shipping_cost(weight_kg, country, premium=False, local_country=\"IN\"):\n",
    "    "
   ]
  }
 ],
 "metadata": {
  "kernelspec": {
   "display_name": ".venv",
   "language": "python",
   "name": "python3"
  },
  "language_info": {
   "codemirror_mode": {
    "name": "ipython",
    "version": 3
   },
   "file_extension": ".py",
   "mimetype": "text/x-python",
   "name": "python",
   "nbconvert_exporter": "python",
   "pygments_lexer": "ipython3",
   "version": "3.11.13"
  }
 },
 "nbformat": 4,
 "nbformat_minor": 5
}
