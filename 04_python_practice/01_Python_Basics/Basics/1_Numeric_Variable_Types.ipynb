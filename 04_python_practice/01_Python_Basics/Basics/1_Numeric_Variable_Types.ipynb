{
 "cells": [
  {
   "attachments": {},
   "cell_type": "markdown",
   "metadata": {},
   "source": [
    "# Variable Types and Numeric Operators"
   ]
  },
  {
   "attachments": {},
   "cell_type": "markdown",
   "metadata": {},
   "source": [
    "Welcome to the first Python notebook you will go through during the bootcamp. We hope you have all had a look at the materials we shared with you before the course. In the following notebooks we will go through all the topics you have already seen in the preparation material to refresh your knowledge. For those of you who have worked with Python before and are comfortable with programming, it might be easy. For some, it may only be the second time they've heard of most of the topics and some of the exercises might already be challenging. That's fine! No one becomes a true Pythonista overnight. To become good at programming, you need one thing above all: **practice**! And that's why today we will start by reviewing the basics. For some topics, we will dive deeper and expand your knowledge from the preparation notebooks. \n",
    "\n",
    "But enough said, let's start by strengthening your Python knowledge! "
   ]
  },
  {
   "attachments": {},
   "cell_type": "markdown",
   "metadata": {},
   "source": [
    "## Objectives\n",
    "\n",
    "In this notebook we will refresh our knowledge about:\n",
    "\n",
    "- how to do simple math with Python\n",
    "- different data types\n",
    "- variables "
   ]
  },
  {
   "attachments": {},
   "cell_type": "markdown",
   "metadata": {},
   "source": [
    "## Numeric Operations\n",
    "\n",
    "At its base level, Python is really just an awesome calculator!\n",
    "\n",
    "All of the operations that you think should be available are available. Addition, subtraction, multiplication, division and exponentiation are all accessible via `+` , `-` , `*` , `/` and `**` , respectively. As in maths, you can also change the order of the operations using parenthesis `()`. "
   ]
  },
  {
   "cell_type": "code",
   "execution_count": 4,
   "metadata": {
    "ExecuteTime": {
     "end_time": "2020-06-30T11:34:51.429214Z",
     "start_time": "2020-06-30T11:34:51.418682Z"
    }
   },
   "outputs": [
    {
     "data": {
      "text/plain": [
       "55"
      ]
     },
     "execution_count": 4,
     "metadata": {},
     "output_type": "execute_result"
    }
   ],
   "source": [
    "32 + 23"
   ]
  },
  {
   "cell_type": "code",
   "execution_count": 5,
   "metadata": {
    "ExecuteTime": {
     "end_time": "2020-06-30T11:34:51.456179Z",
     "start_time": "2020-06-30T11:34:51.436541Z"
    }
   },
   "outputs": [
    {
     "data": {
      "text/plain": [
       "-2"
      ]
     },
     "execution_count": 5,
     "metadata": {},
     "output_type": "execute_result"
    }
   ],
   "source": [
    "19 - 21"
   ]
  },
  {
   "cell_type": "code",
   "execution_count": 6,
   "metadata": {
    "ExecuteTime": {
     "end_time": "2020-06-30T11:34:51.503183Z",
     "start_time": "2020-06-30T11:34:51.463300Z"
    }
   },
   "outputs": [
    {
     "data": {
      "text/plain": [
       "121"
      ]
     },
     "execution_count": 6,
     "metadata": {},
     "output_type": "execute_result"
    }
   ],
   "source": [
    "11 * 11"
   ]
  },
  {
   "cell_type": "code",
   "execution_count": 7,
   "metadata": {
    "ExecuteTime": {
     "end_time": "2020-06-30T11:34:51.554866Z",
     "start_time": "2020-06-30T11:34:51.510152Z"
    }
   },
   "outputs": [
    {
     "data": {
      "text/plain": [
       "0.375"
      ]
     },
     "execution_count": 7,
     "metadata": {},
     "output_type": "execute_result"
    }
   ],
   "source": [
    "12 / 32"
   ]
  },
  {
   "cell_type": "code",
   "execution_count": null,
   "metadata": {
    "ExecuteTime": {
     "end_time": "2020-06-30T11:34:51.565917Z",
     "start_time": "2020-06-30T11:34:51.558759Z"
    }
   },
   "outputs": [],
   "source": [
    "3 ** 2"
   ]
  },
  {
   "cell_type": "code",
   "execution_count": null,
   "metadata": {},
   "outputs": [],
   "source": [
    "4 + 6 * 5"
   ]
  },
  {
   "cell_type": "code",
   "execution_count": 1,
   "metadata": {},
   "outputs": [
    {
     "data": {
      "text/plain": [
       "50"
      ]
     },
     "execution_count": 1,
     "metadata": {},
     "output_type": "execute_result"
    }
   ],
   "source": [
    "(4 + 6) * 5"
   ]
  },
  {
   "attachments": {},
   "cell_type": "markdown",
   "metadata": {},
   "source": [
    "\n",
    "But Python has even more to offer. Besides those simple operators you can also find on any calculator, Python has two more arithmetic operators which might be new to you: `//` and `%`.\n",
    "\n",
    "The double slash `//` is called floor division. All it does is perform division and truncate the result."
   ]
  },
  {
   "cell_type": "code",
   "execution_count": 2,
   "metadata": {},
   "outputs": [
    {
     "data": {
      "text/plain": [
       "8"
      ]
     },
     "execution_count": 2,
     "metadata": {},
     "output_type": "execute_result"
    }
   ],
   "source": [
    "# Floor division \n",
    "34 // 4"
   ]
  },
  {
   "attachments": {},
   "cell_type": "markdown",
   "metadata": {},
   "source": [
    "The other operator is the modular division operator, `%` (also called modulo). This operation is the sibling to `//`. Whereas `//` returns the truncated result of a division, `%` returns the remainder of integer division."
   ]
  },
  {
   "cell_type": "code",
   "execution_count": 10,
   "metadata": {},
   "outputs": [
    {
     "data": {
      "text/plain": [
       "2"
      ]
     },
     "execution_count": 10,
     "metadata": {},
     "output_type": "execute_result"
    }
   ],
   "source": [
    "# Modulo\n",
    "34 % 4"
   ]
  },
  {
   "attachments": {},
   "cell_type": "markdown",
   "metadata": {},
   "source": [
    "During your daily work as a Data Scientist you will need a variety of different mathematical operations. For some of them you can use built-in functions. \n",
    "\n",
    "`abs()`, `min()`, `max()` and `round()` are helpful little functions to know when you start working with data. As their names already imply `abs()` will return the absolute value of a number, `min()` and `max()` will return the minimum respectively maximum of a bunch of numbers and `round()` will round a number to a given amount of decimals."
   ]
  },
  {
   "cell_type": "code",
   "execution_count": 11,
   "metadata": {},
   "outputs": [
    {
     "data": {
      "text/plain": [
       "2.14"
      ]
     },
     "execution_count": 11,
     "metadata": {},
     "output_type": "execute_result"
    }
   ],
   "source": [
    "abs(2.14)"
   ]
  },
  {
   "cell_type": "code",
   "execution_count": 12,
   "metadata": {},
   "outputs": [
    {
     "data": {
      "text/plain": [
       "2.14"
      ]
     },
     "execution_count": 12,
     "metadata": {},
     "output_type": "execute_result"
    }
   ],
   "source": [
    "abs(-2.14)"
   ]
  },
  {
   "cell_type": "code",
   "execution_count": 13,
   "metadata": {},
   "outputs": [
    {
     "data": {
      "text/plain": [
       "11"
      ]
     },
     "execution_count": 13,
     "metadata": {},
     "output_type": "execute_result"
    }
   ],
   "source": [
    "min(14, 21, 32, 11, 44, 23)"
   ]
  },
  {
   "cell_type": "code",
   "execution_count": 14,
   "metadata": {},
   "outputs": [
    {
     "data": {
      "text/plain": [
       "44"
      ]
     },
     "execution_count": 14,
     "metadata": {},
     "output_type": "execute_result"
    }
   ],
   "source": [
    "max(14, 21, 32, 11, 44, 23)"
   ]
  },
  {
   "cell_type": "code",
   "execution_count": 15,
   "metadata": {},
   "outputs": [
    {
     "data": {
      "text/plain": [
       "3.142"
      ]
     },
     "execution_count": 15,
     "metadata": {},
     "output_type": "execute_result"
    }
   ],
   "source": [
    "round(3.14159265359, 3)"
   ]
  },
  {
   "attachments": {},
   "cell_type": "markdown",
   "metadata": {},
   "source": [
    "## Variables"
   ]
  },
  {
   "attachments": {},
   "cell_type": "markdown",
   "metadata": {},
   "source": [
    "One of the most powerful constructs in programming is the ability to store arbitrary values in what we call variables. You can think of variable assignment as giving a name to something so that it can be accessed later by different parts of your program.\n",
    "\n",
    "As you may remember, variable assignment in Python occurs with the `=` operator. To assign a value to a variable name (i.e. declare it), you simply put the variable name on the left side of the `=` and the value you want to associate with that variable name on the right side. Once this has happened, you can access the value in the variable by using it's name somewhere later in your code or notebook."
   ]
  },
  {
   "cell_type": "code",
   "execution_count": 16,
   "metadata": {
    "ExecuteTime": {
     "end_time": "2020-06-30T11:34:51.694614Z",
     "start_time": "2020-06-30T11:34:51.686456Z"
    }
   },
   "outputs": [],
   "source": [
    "a = 8\n",
    "b = \"Hello\""
   ]
  },
  {
   "cell_type": "code",
   "execution_count": 17,
   "metadata": {
    "ExecuteTime": {
     "end_time": "2020-06-30T11:34:51.711513Z",
     "start_time": "2020-06-30T11:34:51.703416Z"
    }
   },
   "outputs": [
    {
     "data": {
      "text/plain": [
       "'Hello'"
      ]
     },
     "execution_count": 17,
     "metadata": {},
     "output_type": "execute_result"
    }
   ],
   "source": [
    "b"
   ]
  },
  {
   "cell_type": "code",
   "execution_count": 18,
   "metadata": {
    "ExecuteTime": {
     "end_time": "2020-06-30T11:34:51.723777Z",
     "start_time": "2020-06-30T11:34:51.714309Z"
    }
   },
   "outputs": [
    {
     "data": {
      "text/plain": [
       "4"
      ]
     },
     "execution_count": 18,
     "metadata": {},
     "output_type": "execute_result"
    }
   ],
   "source": [
    "a - 4"
   ]
  },
  {
   "cell_type": "code",
   "execution_count": 19,
   "metadata": {
    "ExecuteTime": {
     "end_time": "2020-06-30T11:34:51.736043Z",
     "start_time": "2020-06-30T11:34:51.726241Z"
    }
   },
   "outputs": [
    {
     "data": {
      "text/plain": [
       "'HelloHelloHelloHelloHelloHelloHelloHello'"
      ]
     },
     "execution_count": 19,
     "metadata": {},
     "output_type": "execute_result"
    }
   ],
   "source": [
    "a * b"
   ]
  },
  {
   "attachments": {},
   "cell_type": "markdown",
   "metadata": {},
   "source": [
    "The name you can give a variable can technically be any contiguous set of characters, but there are some conventions followed in Python and programming in general. Python follows a variable naming convention called snake case, which uses underscores `_` instead of spaces and only lower case letters (e.g. `my_first_variable`). Although `my_first_variable` would be in snake_case it is not a good variable name. In order to make your code more readable and maintainable you should always give your variables well-defined, succinct names. Calling something `height` is a lot more meaningful than only calling it `x`. \n",
    "\n",
    "There are of course cases where using less than descriptive variable names follows convention and are, therefore, just fine to use. A common example is the use of `i` to keep track of an index. Because of its prevalent usage for indexing, it is usually easy to understand what is happening in that context when all you see is the variable name `i`.\n",
    "\n",
    "In the cells above `a = 8` or `b = \"Hello\"` did not generate an output. This is because the return value that would have been printed as output was assigned to the variables `a` and `b`. To view the content of the variables we had to call them in the next lines.\n",
    "\n",
    "A large part of variables' power is the fact that they can change. This allows us to use a single variable name to keep track of a specific thing throughout the life of a program. \n",
    "Remember how we assigned the value `8` to `a` above? The exact same syntax can be used to change the value stored in the variable.\n",
    "Let's say we want to increase the value of a by 5:"
   ]
  },
  {
   "cell_type": "code",
   "execution_count": 21,
   "metadata": {
    "ExecuteTime": {
     "end_time": "2020-06-30T11:34:51.753269Z",
     "start_time": "2020-06-30T11:34:51.738671Z"
    }
   },
   "outputs": [
    {
     "data": {
      "text/plain": [
       "18"
      ]
     },
     "execution_count": 21,
     "metadata": {},
     "output_type": "execute_result"
    }
   ],
   "source": [
    "a = a + 5\n",
    "a"
   ]
  },
  {
   "attachments": {},
   "cell_type": "markdown",
   "metadata": {},
   "source": [
    "Notice how the first line above is formatted. Python knows that the `=` means variable assignment, so when it sees the first line it evaluates the right side of the equals and then puts that value in `a`, even though `a` is part of the calculation on the right side. `a` is now connected with this new value and the old value is gone.\n",
    "\n",
    "Changing variables in this way occurs so commonly that there is built-in shorthand for it. The result of the first line could have been achieved with `a += 5`. This *syntactic sugar* is available for all the simple operations `+`, `-`, `*`, `/`, `**`, and `%` that we covered earlier."
   ]
  },
  {
   "attachments": {},
   "cell_type": "markdown",
   "metadata": {},
   "source": [
    "## Types"
   ]
  },
  {
   "attachments": {},
   "cell_type": "markdown",
   "metadata": {},
   "source": [
    "Data type is an important concept in programming. Variables can store data in different types and different types can do different things.\n",
    "\n",
    "Do you remember the adage: \"If it walks like a duck, and quacks like a duck, then it must be a duck\". Python is a duck typed language, which means that Python will determine what it thinks is the best type to call a variable when you use it, unless explicitly told otherwise."
   ]
  },
  {
   "attachments": {},
   "cell_type": "markdown",
   "metadata": {},
   "source": [
    "### Numeric Variable Types"
   ]
  },
  {
   "attachments": {},
   "cell_type": "markdown",
   "metadata": {},
   "source": [
    "Let's review some basic numeric variable types in Python, which all represent numbers in some way.\n",
    "The most important ones are `ints`, short for integers, `floats`, short for floating point/decimal numbers, and `complex`, which contain real and imaginary parts stored as floats.\n",
    "\n",
    "To inspect what type Python thinks a variable (or number...) is, you can use the `type()` function. This will be especially useful when you run into an error and will have to debug your code. "
   ]
  },
  {
   "cell_type": "code",
   "execution_count": null,
   "metadata": {
    "ExecuteTime": {
     "end_time": "2020-06-30T11:34:51.223748Z",
     "start_time": "2020-06-30T11:34:51.176601Z"
    },
    "scrolled": true
   },
   "outputs": [],
   "source": [
    "14 # Int"
   ]
  },
  {
   "cell_type": "code",
   "execution_count": null,
   "metadata": {
    "ExecuteTime": {
     "end_time": "2020-06-30T11:34:51.302631Z",
     "start_time": "2020-06-30T11:34:51.281655Z"
    },
    "scrolled": true
   },
   "outputs": [],
   "source": [
    "32.2 # Float"
   ]
  },
  {
   "cell_type": "code",
   "execution_count": 22,
   "metadata": {
    "ExecuteTime": {
     "end_time": "2020-06-30T11:34:51.353655Z",
     "start_time": "2020-06-30T11:34:51.313466Z"
    }
   },
   "outputs": [
    {
     "data": {
      "text/plain": [
       "(5+6j)"
      ]
     },
     "execution_count": 22,
     "metadata": {},
     "output_type": "execute_result"
    }
   ],
   "source": [
    "complex(5, 6) # complex"
   ]
  },
  {
   "cell_type": "code",
   "execution_count": 23,
   "metadata": {
    "ExecuteTime": {
     "end_time": "2020-06-30T11:34:51.379983Z",
     "start_time": "2020-06-30T11:34:51.361564Z"
    }
   },
   "outputs": [
    {
     "data": {
      "text/plain": [
       "int"
      ]
     },
     "execution_count": 23,
     "metadata": {},
     "output_type": "execute_result"
    }
   ],
   "source": [
    "type(14)"
   ]
  },
  {
   "cell_type": "code",
   "execution_count": 24,
   "metadata": {
    "ExecuteTime": {
     "end_time": "2020-06-30T11:34:51.396272Z",
     "start_time": "2020-06-30T11:34:51.385142Z"
    }
   },
   "outputs": [
    {
     "data": {
      "text/plain": [
       "float"
      ]
     },
     "execution_count": 24,
     "metadata": {},
     "output_type": "execute_result"
    }
   ],
   "source": [
    "type(82.6)"
   ]
  },
  {
   "cell_type": "code",
   "execution_count": 25,
   "metadata": {
    "ExecuteTime": {
     "end_time": "2020-06-30T11:34:51.410079Z",
     "start_time": "2020-06-30T11:34:51.399690Z"
    }
   },
   "outputs": [
    {
     "data": {
      "text/plain": [
       "complex"
      ]
     },
     "execution_count": 25,
     "metadata": {},
     "output_type": "execute_result"
    }
   ],
   "source": [
    "type(complex(5, 6))"
   ]
  },
  {
   "attachments": {},
   "cell_type": "markdown",
   "metadata": {},
   "source": [
    "As you can see, Python assumes that a number with no decimal point is an `int`, those with a decimal point a `float`, and (surprise!) those from the `complex()` constructor as `complex`.\n",
    "\n",
    "Frequently, these subtle differences wont matter too much. However, there will be times when this implementation detail will make you think that something will work, when really it won't. Knowing how to check the type of something will help you solve any of these potential problems."
   ]
  },
  {
   "attachments": {},
   "cell_type": "markdown",
   "metadata": {},
   "source": [
    "### String\n",
    "\n",
    "Since string (`str` for short) manipulation and formatting is a big topic, we will devote a whole notebook to it and will not go into it at this point."
   ]
  },
  {
   "attachments": {},
   "cell_type": "markdown",
   "metadata": {},
   "source": [
    "### Bool\n",
    "\n",
    "Python has a special data type called `bool`, which can only have two values: `True` or `False`.\n",
    "We will refresh our knowledge of boolean values when we come to the if-then statements."
   ]
  },
  {
   "attachments": {},
   "cell_type": "markdown",
   "metadata": {},
   "source": [
    "### Further Data Types\n",
    "\n",
    "There are several other built-in data types in Python. We will cover `lists`, `dictionaries`, `sets`, `tuples` and `range` in later notebooks more in detail. "
   ]
  },
  {
   "attachments": {},
   "cell_type": "markdown",
   "metadata": {},
   "source": [
    "## Check your understanding! "
   ]
  },
  {
   "attachments": {},
   "cell_type": "markdown",
   "metadata": {},
   "source": [
    "**Part 1**\n",
    "\n",
    "What do you think the results of the following computations will be?\n",
    "1. `19.0 - 11`\n",
    "2. `12 * 0.25`\n",
    "3. `12 ** 2`\n",
    "4. `25 // 6`\n",
    "5. `(12 + 8) / 7`\n",
    "6. `(21 / 3) % 2`"
   ]
  },
  {
   "attachments": {},
   "cell_type": "markdown",
   "metadata": {},
   "source": [
    "**Part 2**\n",
    "\n",
    "Consider the following code:\n",
    "\n",
    "```\n",
    "x = 82\n",
    "y = 30\n",
    "x += y\n",
    "y = x - 3\n",
    "x -= y - 5\n",
    "```\n",
    "\n",
    "What are the values of x and y after each line?"
   ]
  },
  {
   "attachments": {},
   "cell_type": "markdown",
   "metadata": {},
   "source": [
    "**Part 3**\n",
    "\n",
    "What are the types of the following numerics?\n",
    "1. `10`\n",
    "2. `100.32`\n",
    "3. `complex(-5, -10.2)`"
   ]
  },
  {
   "attachments": {},
   "cell_type": "markdown",
   "metadata": {},
   "source": [
    "**Part 4**\n",
    "\n",
    "Person1 is 21 years old, Person2 is 43 years old and Person3 is 19 years old. Define variables for the ages, calculate the mean with them and save the result in another variable. Check which type the result has. Can you round the result to 2 decimals?"
   ]
  },
  {
   "cell_type": "code",
   "execution_count": 3,
   "metadata": {},
   "outputs": [
    {
     "data": {
      "text/plain": [
       "27.67"
      ]
     },
     "execution_count": 3,
     "metadata": {},
     "output_type": "execute_result"
    }
   ],
   "source": [
    "person1 = 21\n",
    "person2 = 43\n",
    "person3 = 19\n",
    "person_mean = (person1 + person2 + person3)/3\n",
    "type(person_mean)\n",
    "round(person_mean, 2)"
   ]
  }
 ],
 "metadata": {
  "kernelspec": {
   "display_name": "3.11.13",
   "language": "python",
   "name": "python3"
  },
  "language_info": {
   "codemirror_mode": {
    "name": "ipython",
    "version": 3
   },
   "file_extension": ".py",
   "mimetype": "text/x-python",
   "name": "python",
   "nbconvert_exporter": "python",
   "pygments_lexer": "ipython3",
   "version": "3.11.13"
  },
  "toc": {
   "base_numbering": 1,
   "nav_menu": {},
   "number_sections": true,
   "sideBar": true,
   "skip_h1_title": false,
   "title_cell": "Table of Contents",
   "title_sidebar": "Contents",
   "toc_cell": false,
   "toc_position": {},
   "toc_section_display": true,
   "toc_window_display": false
  },
  "varInspector": {
   "cols": {
    "lenName": 16,
    "lenType": 16,
    "lenVar": 40
   },
   "kernels_config": {
    "python": {
     "delete_cmd_postfix": "",
     "delete_cmd_prefix": "del ",
     "library": "var_list.py",
     "varRefreshCmd": "print(var_dic_list())"
    },
    "r": {
     "delete_cmd_postfix": ") ",
     "delete_cmd_prefix": "rm(",
     "library": "var_list.r",
     "varRefreshCmd": "cat(var_dic_list()) "
    }
   },
   "types_to_exclude": [
    "module",
    "function",
    "builtin_function_or_method",
    "instance",
    "_Feature"
   ],
   "window_display": false
  }
 },
 "nbformat": 4,
 "nbformat_minor": 4
}
